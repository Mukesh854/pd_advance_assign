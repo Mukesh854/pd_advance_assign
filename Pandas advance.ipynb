{
 "cells": [
  {
   "cell_type": "markdown",
   "id": "e27b5012-c793-44b4-86fd-ab56e33be416",
   "metadata": {},
   "source": [
    "## pandas advance assignment"
   ]
  },
  {
   "cell_type": "code",
   "execution_count": 2,
   "id": "7997c186-7a02-43e6-8870-4cf9f23178d3",
   "metadata": {},
   "outputs": [],
   "source": [
    "import pandas as pd"
   ]
  },
  {
   "cell_type": "markdown",
   "id": "558750f8-f6c8-43bd-b829-4c109174921b",
   "metadata": {},
   "source": [
    "Q1. List any five functions of the pandas library with execution."
   ]
  },
  {
   "cell_type": "markdown",
   "id": "adce19cc-f461-442d-a783-192ad9ebd78d",
   "metadata": {},
   "source": [
    "1) pandas.read_csv\n",
    "\n"
   ]
  },
  {
   "cell_type": "code",
   "execution_count": null,
   "id": "a3406b16-75e0-4d83-bcff-68125b45aa85",
   "metadata": {},
   "outputs": [],
   "source": [
    "data=pd.read_csv(\"data_csv\")\n",
    "print(data.head())"
   ]
  },
  {
   "cell_type": "markdown",
   "id": "5081b551-34c4-4e17-bd64-0eba30fddc9c",
   "metadata": {},
   "source": [
    "2) pandas.DataFrame()"
   ]
  },
  {
   "cell_type": "code",
   "execution_count": 5,
   "id": "d5437b1e-22ca-4545-bf71-79e80024cfbb",
   "metadata": {},
   "outputs": [
    {
     "data": {
      "text/html": [
       "<div>\n",
       "<style scoped>\n",
       "    .dataframe tbody tr th:only-of-type {\n",
       "        vertical-align: middle;\n",
       "    }\n",
       "\n",
       "    .dataframe tbody tr th {\n",
       "        vertical-align: top;\n",
       "    }\n",
       "\n",
       "    .dataframe thead th {\n",
       "        text-align: right;\n",
       "    }\n",
       "</style>\n",
       "<table border=\"1\" class=\"dataframe\">\n",
       "  <thead>\n",
       "    <tr style=\"text-align: right;\">\n",
       "      <th></th>\n",
       "      <th>Name</th>\n",
       "      <th>Age</th>\n",
       "      <th>Gender</th>\n",
       "    </tr>\n",
       "  </thead>\n",
       "  <tbody>\n",
       "    <tr>\n",
       "      <th>0</th>\n",
       "      <td>mukesh</td>\n",
       "      <td>23</td>\n",
       "      <td>male</td>\n",
       "    </tr>\n",
       "    <tr>\n",
       "      <th>1</th>\n",
       "      <td>abhay</td>\n",
       "      <td>20</td>\n",
       "      <td>male</td>\n",
       "    </tr>\n",
       "    <tr>\n",
       "      <th>2</th>\n",
       "      <td>vansh</td>\n",
       "      <td>21</td>\n",
       "      <td>male</td>\n",
       "    </tr>\n",
       "  </tbody>\n",
       "</table>\n",
       "</div>"
      ],
      "text/plain": [
       "     Name  Age Gender\n",
       "0  mukesh   23   male\n",
       "1   abhay   20   male\n",
       "2   vansh   21   male"
      ]
     },
     "execution_count": 5,
     "metadata": {},
     "output_type": "execute_result"
    }
   ],
   "source": [
    "data_new={\"Name\":[\"mukesh\",\"abhay\",\"vansh\"],\n",
    "          \"Age\":[23,20,21],\n",
    "          \"Gender\":[\"male\",\"male\",\"male\"]}\n",
    "\n",
    "df=pd.DataFrame(data_new)\n",
    "df"
   ]
  },
  {
   "cell_type": "markdown",
   "id": "b46c20b9-70a4-44c0-8aed-4b3291115f81",
   "metadata": {},
   "source": [
    "3) pandas.DataFrame.info()"
   ]
  },
  {
   "cell_type": "code",
   "execution_count": 7,
   "id": "93a74b29-ad00-4ef8-a2f3-dc1033305ba1",
   "metadata": {},
   "outputs": [
    {
     "name": "stdout",
     "output_type": "stream",
     "text": [
      "<class 'pandas.core.frame.DataFrame'>\n",
      "RangeIndex: 3 entries, 0 to 2\n",
      "Data columns (total 3 columns):\n",
      " #   Column  Non-Null Count  Dtype \n",
      "---  ------  --------------  ----- \n",
      " 0   Name    3 non-null      object\n",
      " 1   Age     3 non-null      int64 \n",
      " 2   Gender  3 non-null      object\n",
      "dtypes: int64(1), object(2)\n",
      "memory usage: 200.0+ bytes\n"
     ]
    }
   ],
   "source": [
    "df.info()"
   ]
  },
  {
   "cell_type": "markdown",
   "id": "7e093de9-a034-4312-bba4-4add4851122b",
   "metadata": {},
   "source": [
    "4) pandas.DataFrame.groupby()"
   ]
  },
  {
   "cell_type": "code",
   "execution_count": 8,
   "id": "83fbb3c0-c3c5-4d93-9358-dd4d47962268",
   "metadata": {},
   "outputs": [
    {
     "name": "stdout",
     "output_type": "stream",
     "text": [
      "Name\n",
      "abhay     20.0\n",
      "mukesh    23.0\n",
      "vansh     21.0\n",
      "Name: Age, dtype: float64\n"
     ]
    }
   ],
   "source": [
    "group_data=df.groupby(\"Name\")[\"Age\"].mean()\n",
    "print(group_data)"
   ]
  },
  {
   "cell_type": "markdown",
   "id": "477659a4-f799-46c0-933c-49a5e65df5d0",
   "metadata": {},
   "source": [
    "5) pandas.Series.value_counts()"
   ]
  },
  {
   "cell_type": "code",
   "execution_count": 12,
   "id": "c69a5365-fcba-4eb3-99dc-ae32ed34f95b",
   "metadata": {},
   "outputs": [
    {
     "name": "stdout",
     "output_type": "stream",
     "text": [
      "23     2\n",
      "3      2\n",
      "8      2\n",
      "54     1\n",
      "1      1\n",
      "65     1\n",
      "63     1\n",
      "56     1\n",
      "2      1\n",
      "6      1\n",
      "5      1\n",
      "89     1\n",
      "100    1\n",
      "dtype: int64\n"
     ]
    }
   ],
   "source": [
    "data=[23,54,1,65,3,8,63,56,3,8,2,6,23,5,89,100]\n",
    "series=pd.Series(data)\n",
    "count=series.value_counts()\n",
    "print(count)"
   ]
  },
  {
   "cell_type": "markdown",
   "id": "1c102e80-7fde-42dd-99e9-f820d3436aa2",
   "metadata": {},
   "source": [
    "Q2. Given a Pandas DataFrame df with columns 'A', 'B', and 'C', write a Python function to re-index the\n",
    "DataFrame with a new index that starts from 1 and increments by 2 for each row.\n",
    "\n"
   ]
  },
  {
   "cell_type": "code",
   "execution_count": 18,
   "id": "3d313ba6-67b5-4aff-9f3f-61e6ce7531e0",
   "metadata": {},
   "outputs": [
    {
     "name": "stdout",
     "output_type": "stream",
     "text": [
      "Original dataframe\n",
      "    A   B   C\n",
      "0  23   2  34\n",
      "1  54  56  56\n",
      "2  23  21  32\n",
      "3  56  67  78\n",
      "\n",
      "new_index\n",
      "    A   B   C\n",
      "1  23   2  34\n",
      "3  54  56  56\n",
      "5  23  21  32\n",
      "7  56  67  78\n"
     ]
    },
    {
     "data": {
      "text/plain": [
       "4"
      ]
     },
     "execution_count": 18,
     "metadata": {},
     "output_type": "execute_result"
    }
   ],
   "source": [
    "def new_index(df1):\n",
    "    indexs=pd.Index(range(1,len(df1)*2,2))\n",
    "    df1=  df1.reset_index(drop=True)\n",
    "    df1.index=indexs\n",
    "    return df1                \n",
    "                    \n",
    "                    \n",
    "\n",
    "\n",
    "data1={\"A\":[23,54,23,56],\n",
    "       \"B\":[2,56,21,67],\n",
    "       \"C\":[34,56,32,78]}\n",
    "df1=pd.DataFrame(data1)\n",
    "print(\"Original dataframe\")\n",
    "print(df1)\n",
    "\n",
    "\n",
    "df1=new_index(df1)\n",
    "print(\"\\nnew_index\")\n",
    "print(df1)\n",
    "len(df1)"
   ]
  },
  {
   "cell_type": "markdown",
   "id": "4b46ef16-7d2b-4580-8905-e1362dff0c0c",
   "metadata": {},
   "source": [
    "Q3. You have a Pandas DataFrame df with a column named 'Values'. Write a Python function that\n",
    "iterates over the DataFrame and calculates the sum of the first three values in the 'Values' column. The\n",
    "function should print the sum to the console."
   ]
  },
  {
   "cell_type": "code",
   "execution_count": 32,
   "id": "4e26f671-1fda-4ca1-88c3-77a2158f8a68",
   "metadata": {},
   "outputs": [
    {
     "name": "stdout",
     "output_type": "stream",
     "text": [
      "   Values\n",
      "0      23\n",
      "1      45\n",
      "2      32\n",
      "3      56\n",
      "4      23\n",
      "5      67\n",
      "6       2\n",
      "7      65\n",
      "8      23\n",
      "9       6\n",
      "the sum of first three is 100\n"
     ]
    }
   ],
   "source": [
    "def sum(df):\n",
    "    sum_of_first_three=0\n",
    "    \n",
    "    for index,row in df.iterrows():\n",
    "        \n",
    "            sum_of_first_three += row[\"Values\"]\n",
    "            \n",
    "            if index==2:\n",
    "                break\n",
    "    \n",
    "                                      \n",
    "                                      \n",
    "    print(\"the sum of first three is\",sum_of_first_three)        \n",
    "        \n",
    " \n",
    "    \n",
    "    \n",
    "    \n",
    "    \n",
    "data={\"Values\":[23,45,32,56,23,67,2,65,23,6]}\n",
    "df=pd.DataFrame(data2)\n",
    "\n",
    "print(df)\n",
    "sum(df)"
   ]
  },
  {
   "cell_type": "markdown",
   "id": "fad54444-2a05-4530-b0fe-f88d56e1a8fe",
   "metadata": {},
   "source": [
    "Q4. Given a Pandas DataFrame df with a column 'Text', write a Python function to create a new column\n",
    "'Word_Count' that contains the number of words in each row of the 'Text' column."
   ]
  },
  {
   "cell_type": "code",
   "execution_count": 44,
   "id": "f4a21b4d-348e-43b8-b955-dba432429718",
   "metadata": {},
   "outputs": [
    {
     "data": {
      "text/html": [
       "<div>\n",
       "<style scoped>\n",
       "    .dataframe tbody tr th:only-of-type {\n",
       "        vertical-align: middle;\n",
       "    }\n",
       "\n",
       "    .dataframe tbody tr th {\n",
       "        vertical-align: top;\n",
       "    }\n",
       "\n",
       "    .dataframe thead th {\n",
       "        text-align: right;\n",
       "    }\n",
       "</style>\n",
       "<table border=\"1\" class=\"dataframe\">\n",
       "  <thead>\n",
       "    <tr style=\"text-align: right;\">\n",
       "      <th></th>\n",
       "      <th>Text</th>\n",
       "      <th>Word_count</th>\n",
       "    </tr>\n",
       "  </thead>\n",
       "  <tbody>\n",
       "    <tr>\n",
       "      <th>0</th>\n",
       "      <td>mukesh</td>\n",
       "      <td>6</td>\n",
       "    </tr>\n",
       "    <tr>\n",
       "      <th>1</th>\n",
       "      <td>vansh</td>\n",
       "      <td>5</td>\n",
       "    </tr>\n",
       "    <tr>\n",
       "      <th>2</th>\n",
       "      <td>pwskills</td>\n",
       "      <td>8</td>\n",
       "    </tr>\n",
       "    <tr>\n",
       "      <th>3</th>\n",
       "      <td>abhay</td>\n",
       "      <td>5</td>\n",
       "    </tr>\n",
       "  </tbody>\n",
       "</table>\n",
       "</div>"
      ],
      "text/plain": [
       "       Text  Word_count\n",
       "0    mukesh           6\n",
       "1     vansh           5\n",
       "2  pwskills           8\n",
       "3     abhay           5"
      ]
     },
     "execution_count": 44,
     "metadata": {},
     "output_type": "execute_result"
    }
   ],
   "source": [
    "data2={\"Text\":[\"mukesh\",\"vansh\",\"pwskills\",\"abhay\"]}\n",
    "\n",
    "df=pd.DataFrame(data2)\n",
    "df\n",
    "df[\"Word_count\"]=df[\"Text\"].apply(len)\n",
    "df"
   ]
  },
  {
   "cell_type": "markdown",
   "id": "0d949643-0ff7-4f24-bcef-dfb9b5a174fc",
   "metadata": {},
   "source": [
    "Q5. How are DataFrame.size() and DataFrame.shape() different?"
   ]
  },
  {
   "cell_type": "markdown",
   "id": "c3a08e59-decf-4490-94a5-7130967c0e1b",
   "metadata": {},
   "source": [
    "DataFrame.size() and DataFrame.shape() are two different methods in pandas that provide different information about a DataFrame:\n",
    "\n",
    "DataFrame.size():The size() method returns the total number of elements in the DataFrame, which is equal to the number of rows multiplied by the number of columns.\n",
    "\n",
    "DataFrame.shape():\n",
    "The shape() method returns a tuple representing the dimensions of the DataFrame.\n",
    "It provides the number of rows and columns in the DataFrame in the form of "
   ]
  },
  {
   "cell_type": "markdown",
   "id": "dbb652a2-21e3-49a1-b81e-4bfba75c0c91",
   "metadata": {},
   "source": [
    "Q6. Which function of pandas do we use to read an excel file?"
   ]
  },
  {
   "cell_type": "code",
   "execution_count": 46,
   "id": "010a6995-596c-4dc0-b1c6-7510779a43b3",
   "metadata": {},
   "outputs": [],
   "source": [
    "# this function of pandas we suse to read an excel file\n",
    "\n",
    "df = pd.read_excel('file.xlsx')"
   ]
  },
  {
   "cell_type": "markdown",
   "id": "c6e17499-79cf-42d9-b2aa-4394076fec2b",
   "metadata": {},
   "source": [
    "Q7. You have a Pandas DataFrame df that contains a column named 'Email' that contains email\n",
    "addresses in the format 'username@domain.com'. Write a Python function that creates a new column\n",
    "'Username' in df that contains only the username part of each email address.\n",
    "The username is the part of the email address that appears before the '@' symbol. For example, if the\n",
    "email address is 'john.doe@example.com', the 'Username' column should contain 'john.doe'. Your\n",
    "function should extract the username from each email address and store it in the new 'Username'\n",
    "column."
   ]
  },
  {
   "cell_type": "code",
   "execution_count": 56,
   "id": "5296eb15-44a4-4072-b7ac-fb16790c1bee",
   "metadata": {},
   "outputs": [
    {
     "data": {
      "text/html": [
       "<div>\n",
       "<style scoped>\n",
       "    .dataframe tbody tr th:only-of-type {\n",
       "        vertical-align: middle;\n",
       "    }\n",
       "\n",
       "    .dataframe tbody tr th {\n",
       "        vertical-align: top;\n",
       "    }\n",
       "\n",
       "    .dataframe thead th {\n",
       "        text-align: right;\n",
       "    }\n",
       "</style>\n",
       "<table border=\"1\" class=\"dataframe\">\n",
       "  <thead>\n",
       "    <tr style=\"text-align: right;\">\n",
       "      <th></th>\n",
       "      <th>Email</th>\n",
       "      <th>Username</th>\n",
       "    </tr>\n",
       "  </thead>\n",
       "  <tbody>\n",
       "    <tr>\n",
       "      <th>0</th>\n",
       "      <td>mukesh@domain.com</td>\n",
       "      <td>mukesh</td>\n",
       "    </tr>\n",
       "    <tr>\n",
       "      <th>1</th>\n",
       "      <td>abhay@domain.com</td>\n",
       "      <td>abhay</td>\n",
       "    </tr>\n",
       "    <tr>\n",
       "      <th>2</th>\n",
       "      <td>vansh@domain.com</td>\n",
       "      <td>vansh</td>\n",
       "    </tr>\n",
       "    <tr>\n",
       "      <th>3</th>\n",
       "      <td>sahil@domain.com</td>\n",
       "      <td>sahil</td>\n",
       "    </tr>\n",
       "  </tbody>\n",
       "</table>\n",
       "</div>"
      ],
      "text/plain": [
       "               Email Username\n",
       "0  mukesh@domain.com   mukesh\n",
       "1   abhay@domain.com    abhay\n",
       "2   vansh@domain.com    vansh\n",
       "3   sahil@domain.com    sahil"
      ]
     },
     "execution_count": 56,
     "metadata": {},
     "output_type": "execute_result"
    }
   ],
   "source": [
    "data={\"Email\":[\"mukesh@domain.com\",\"abhay@domain.com\",\"vansh@domain.com\",\"sahil@domain.com\"]}\n",
    "df=pd.DataFrame(data)      \n",
    "df\n",
    "df[\"Username\"]=df[\"Email\"].apply(lambda x : x.split(\"@\")[0])\n",
    "df"
   ]
  },
  {
   "cell_type": "markdown",
   "id": "00a8a48b-1721-4010-a0ff-b8aaa514e26f",
   "metadata": {},
   "source": [
    "Q8. You have a Pandas DataFrame df with columns 'A', 'B', and 'C'. Write a Python function that selects\n",
    "all rows where the value in column 'A' is greater than 5 and the value in column 'B' is less than 10. The\n",
    "function should return a new DataFrame that contains only the selected rows."
   ]
  },
  {
   "cell_type": "code",
   "execution_count": 69,
   "id": "9c3e4d97-6679-409f-b2e2-a0fab7d49e71",
   "metadata": {},
   "outputs": [
    {
     "ename": "TypeError",
     "evalue": "'>' not supported between instances of 'list' and 'int'",
     "output_type": "error",
     "traceback": [
      "\u001b[0;31m---------------------------------------------------------------------------\u001b[0m",
      "\u001b[0;31mTypeError\u001b[0m                                 Traceback (most recent call last)",
      "Cell \u001b[0;32mIn[69], line 12\u001b[0m\n\u001b[1;32m      4\u001b[0m     \u001b[38;5;28;01mreturn\u001b[39;00m rows\n\u001b[1;32m      8\u001b[0m df\u001b[38;5;241m=\u001b[39m{\u001b[38;5;124m\"\u001b[39m\u001b[38;5;124mA\u001b[39m\u001b[38;5;124m\"\u001b[39m:[\u001b[38;5;241m5\u001b[39m,\u001b[38;5;241m34\u001b[39m,\u001b[38;5;241m6\u001b[39m,\u001b[38;5;241m2\u001b[39m,\u001b[38;5;241m7\u001b[39m],\n\u001b[1;32m      9\u001b[0m       \u001b[38;5;124m\"\u001b[39m\u001b[38;5;124mB\u001b[39m\u001b[38;5;124m\"\u001b[39m:[\u001b[38;5;241m11\u001b[39m,\u001b[38;5;241m2\u001b[39m,\u001b[38;5;241m45\u001b[39m,\u001b[38;5;241m3\u001b[39m,\u001b[38;5;241m21\u001b[39m],\n\u001b[1;32m     10\u001b[0m       \u001b[38;5;124m\"\u001b[39m\u001b[38;5;124mC\u001b[39m\u001b[38;5;124m\"\u001b[39m:[\u001b[38;5;241m23\u001b[39m,\u001b[38;5;241m45\u001b[39m,\u001b[38;5;241m1\u001b[39m,\u001b[38;5;241m5\u001b[39m,\u001b[38;5;241m34\u001b[39m]}\n\u001b[0;32m---> 12\u001b[0m new_df\u001b[38;5;241m=\u001b[39m\u001b[43mcount_sum\u001b[49m\u001b[43m(\u001b[49m\u001b[43mdf\u001b[49m\u001b[43m)\u001b[49m\n\u001b[1;32m     13\u001b[0m new_df\n",
      "Cell \u001b[0;32mIn[69], line 2\u001b[0m, in \u001b[0;36mcount_sum\u001b[0;34m(df)\u001b[0m\n\u001b[1;32m      1\u001b[0m \u001b[38;5;28;01mdef\u001b[39;00m \u001b[38;5;21mcount_sum\u001b[39m(df):\n\u001b[0;32m----> 2\u001b[0m     rows\u001b[38;5;241m=\u001b[39mdf[(\u001b[43mdf\u001b[49m\u001b[43m[\u001b[49m\u001b[38;5;124;43m\"\u001b[39;49m\u001b[38;5;124;43mA\u001b[39;49m\u001b[38;5;124;43m\"\u001b[39;49m\u001b[43m]\u001b[49m\u001b[43m \u001b[49m\u001b[38;5;241;43m>\u001b[39;49m\u001b[43m \u001b[49m\u001b[38;5;241;43m5\u001b[39;49m) \u001b[38;5;241m&\u001b[39m (df[\u001b[38;5;124m\"\u001b[39m\u001b[38;5;124mB\u001b[39m\u001b[38;5;124m\"\u001b[39m] \u001b[38;5;241m<\u001b[39m \u001b[38;5;241m10\u001b[39m)]\n\u001b[1;32m      4\u001b[0m     \u001b[38;5;28;01mreturn\u001b[39;00m rows\n",
      "\u001b[0;31mTypeError\u001b[0m: '>' not supported between instances of 'list' and 'int'"
     ]
    }
   ],
   "source": [
    "def count_sum(df):\n",
    "    rows=df[(df[\"A\"] > 5) & (df[\"B\"] < 10)]\n",
    "    \n",
    "    return rows\n",
    "    \n",
    "    \n",
    "\n",
    "df={\"A\":[5,34,6,2,7],\n",
    "      \"B\":[11,2,45,3,21],\n",
    "      \"C\":[23,45,1,5,34]}\n",
    "\n",
    "new_df=count_sum(df)\n",
    "new_df"
   ]
  },
  {
   "cell_type": "code",
   "execution_count": 70,
   "id": "6b42c08a-05c8-4387-8150-90fb11e0320d",
   "metadata": {},
   "outputs": [
    {
     "name": "stdout",
     "output_type": "stream",
     "text": [
      "   A  B   C\n",
      "1  7  5  20\n",
      "4  6  2  50\n"
     ]
    }
   ],
   "source": [
    "def filter_dataframe(df):\n",
    "    # Use boolean indexing to filter the rows based on the conditions\n",
    "    selected_rows = df[(df['A'] > 5) & (df['B'] < 10)]\n",
    "    return selected_rows\n",
    "\n",
    "# Example usage:\n",
    "# Assuming 'df' is your Pandas DataFrame with columns 'A', 'B', and 'C'\n",
    "# Replace the 'df' below with your actual DataFrame name if different\n",
    "df = pd.DataFrame({\n",
    "    'A': [4, 7, 2, 9, 6],\n",
    "    'B': [8, 5, 3, 12, 2],\n",
    "    'C': [10, 20, 30, 40, 50]\n",
    "})\n",
    "\n",
    "# Call the function to get the filtered DataFrame\n",
    "selected_df = filter_dataframe(df)\n",
    "\n",
    "# Print the selected DataFrame\n",
    "print(selected_df)"
   ]
  },
  {
   "cell_type": "code",
   "execution_count": null,
   "id": "3a372e5b-51e0-4b4b-a446-d866861da8e5",
   "metadata": {},
   "outputs": [],
   "source": []
  }
 ],
 "metadata": {
  "kernelspec": {
   "display_name": "Python 3 (ipykernel)",
   "language": "python",
   "name": "python3"
  },
  "language_info": {
   "codemirror_mode": {
    "name": "ipython",
    "version": 3
   },
   "file_extension": ".py",
   "mimetype": "text/x-python",
   "name": "python",
   "nbconvert_exporter": "python",
   "pygments_lexer": "ipython3",
   "version": "3.10.8"
  }
 },
 "nbformat": 4,
 "nbformat_minor": 5
}
